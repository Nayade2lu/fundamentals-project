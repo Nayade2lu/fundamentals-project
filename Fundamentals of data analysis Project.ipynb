{
 "cells": [
  {
   "cell_type": "markdown",
   "metadata": {},
   "source": [
    "# Box plots"
   ]
  },
  {
   "cell_type": "markdown",
   "metadata": {},
   "source": [
    "### History\n",
    "\n",
    "The box plot was created by John Turkey in 1970 and presented publicly in 1977 in his papper \"Exploratory Data Analysis\". \n",
    "\n",
    "The basic graphic form of the boxplot, the range-bar, was established in the early 1950’s Spear. Tukey’s contribution was to think deeply about appropriate summary statistics that worked for a wide range of data and to connect those to the visual components of the range bar. Today, what we call a boxplot is more closely related to what Tukey called a schematic plot, a box and whiskers plot with some special restrictions on the summary statistics used.\n",
    "\n",
    "In the original days of box plots they were drwn by hand, but nowadays as every statistician has a computer on their desk, the box plots have evolved in more complex representations. These variations attempt to display more information about the distribution, maintaing the compact size of the boxplot, but bringing in the richer distributional summary of the histogram or density plot. \n",
    "\n",
    "Today, over 40 years later, the boxplot has become one of the most frequently used statistical graphics,and is one of the few plot types invented in the 20th century that has found widespread adoption. Due to their elegance and practicality, boxplots have spawned a wealth of variations and enhancement.\n",
    "\n",
    "_Sources: http://vita.had.co.nz/papers/boxplots.pdf, https://en.wikipedia.org/wiki/Box_plot https://towardsdatascience.com/understanding-boxplots-5e2df7bcbd51\n"
   ]
  },
  {
   "cell_type": "markdown",
   "metadata": {},
   "source": [
    "### Creator\n",
    "The creator of the box plots was an American mathematician called John Wilder Tukey.\n",
    "\n",
    "Tukey received a Ph.D in mathematics in Princeton University and was one of the excellent members of  AT&T Bell Laboratories where he invented the term bit, while working on statistical methods for computers.\n",
    "\n",
    "Tukey is also known for the FFT algorithm, the Tukey range test, the Tukey lambda distribution, the Tukey test of additivity, and the Teichmüller–Tukey lemma."
   ]
  },
  {
   "cell_type": "markdown",
   "metadata": {},
   "source": [
    "### General description box plots\n",
    "\n",
    "The box plots also known as a box and whisker plot is a graph that presents information from a five-number summary. It does not show a distribution in as much detail as an histogram does, but is especially useful for indicating whether a distribution is skewed and whether there are potential unusual observations (outliers) in the data set. Boxplots are also very useful when large numbers of observations are involved and when two or more data sets are being compared.\n",
    "\n",
    "The boxplot is made up of five components, carefully chosen to give a robust summary of the distribution of a dataset:\n",
    "\n",
    "• The median, marked by a vertical line inside the box.\n",
    "\n",
    "• Two hinges, the upper and lower fourths (quartiles), represented as the ends of the box.\n",
    "\n",
    "• The data values adjacent to the upper and lower fences, which lie 1.5 times the inter-fourth range from the median,\n",
    "\n",
    "• two whiskers that connect the hinges to the fences; represented as two lines outside the box that extend to the highest and lowest observations\n",
    "\n",
    "• (potential) out-liers, individual points further away from the median than the extremes.\n",
    "\n",
    "\n",
    "Boxplots are ideal for comparing distributions because the centre, spread and overall range are immediately apparent.\n",
    "\n",
    "A box plot is a way of summarizing a set of data measured on an interval scale. It is often used in explanatory data analysis (analyzing data sets to summarize their main characteristics, often with visual methods). This type of graph is used to show the shape of the distribution, its central value, and its variability.\n",
    "\n",
    "_Source https://www150.statcan.gc.ca/n1/edu/power-pouvoir/ch12/5214889-eng.htm_\n",
    "\n",
    "_http://vita.had.co.nz/papers/boxplots.pdf_\n"
   ]
  },
  {
   "cell_type": "markdown",
   "metadata": {},
   "source": [
    "### Types of box plots\n",
    "\n",
    "The first variation to display a density estimate was the vase plot (Benjamini, 1988), where the box is replaced with a symmetrical display of estimated density. Violin plots (Hintze and Nelson, 1998) are very similar, but display the density for all data points, not just the middle half. The bean plot (Kampstra, 2008) is a further enhancement that adds a rug that showing every value and a line that shows the mean.\n",
    "\n",
    "The following image shows: \n",
    "First plot from the left: Box plot\n",
    "\n",
    "Second plot from the left: Vase plot\n",
    "\n",
    "Third plot from the letf: Violin plot\n",
    "\n",
    "Fourth plot from the left: Bean plot\n",
    "\n",
    "Fifth plot below: Notched plot\n",
    "\n",
    "\n",
    "![title](boxplots-types.png)\n",
    "\n",
    "![title](boxplots-types2.png)\n",
    "\n",
    "On top of the abowe presented box plots there are further variations of the box plot wich gives them a great scale of different uses.\n",
    "\n",
    "_Sources: http://datavizcatalogue.com/blog/box-plot-variations/, http://vita.had.co.nz/papers/boxplots.pdf https://www150.statcan.gc.ca/n1/edu/power-pouvoir/ch12/5214889-eng.htm_"
   ]
  },
  {
   "cell_type": "code",
   "execution_count": null,
   "metadata": {},
   "outputs": [],
   "source": []
  }
 ],
 "metadata": {
  "kernelspec": {
   "display_name": "Python 3",
   "language": "python",
   "name": "python3"
  },
  "language_info": {
   "codemirror_mode": {
    "name": "ipython",
    "version": 3
   },
   "file_extension": ".py",
   "mimetype": "text/x-python",
   "name": "python",
   "nbconvert_exporter": "python",
   "pygments_lexer": "ipython3",
   "version": "3.6.6"
  }
 },
 "nbformat": 4,
 "nbformat_minor": 2
}
