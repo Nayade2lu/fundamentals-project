{
 "cells": [
  {
   "cell_type": "markdown",
   "metadata": {},
   "source": [
    "# Box plots"
   ]
  },
  {
   "cell_type": "markdown",
   "metadata": {},
   "source": [
    "### History\n",
    "\n",
    "The box plot was created by John Turkey in 1970 and presented publicly in 1977 in his papper \"Exploratory Data Analysis\". \n",
    "\n",
    "The basic graphic form of the boxplot, the range-bar, was established in the early 1950’s Spear. Tukey’s contribution was to think deeply about appropriate summary statistics that worked for a wide range of data and to connect those to the visual components of the range bar. Today, what we call a boxplot is more closely related to what Tukey called a schematic plot, a box and whiskers plot with some special restrictions on the summary statistics used.\n",
    "\n",
    "In the original days of box plots they were drwn by hand, but nowadays as every statistician has a computer on their desk, the box plots have evolved in more complex representations. These variations attempt to display more information about the distribution, maintaing the compact size of the boxplot, but bringing in the richer distributional summary of the histogram or density plot. \n",
    "\n",
    "Today, over 40 years later, the boxplot has become one of the most frequently used statistical graphics,and is one of the few plot types invented in the 20th century that has found widespread adoption. Due to their elegance and practicality, boxplots have spawned a wealth of variations and enhancement.\n",
    "\n",
    "_Sources: http://vita.had.co.nz/papers/boxplots.pdf, https://en.wikipedia.org/wiki/Box_plot https://towardsdatascience.com/understanding-boxplots-5e2df7bcbd51\n"
   ]
  },
  {
   "cell_type": "markdown",
   "metadata": {},
   "source": [
    "### Creator\n",
    "The creator of the box plots was an American mathematician called John Wilder Tukey.\n",
    "\n",
    "Tukey received a Ph.D in mathematics in Princeton University and was one of the excellent members of  AT&T Bell Laboratories where he invented the term bit, while working on statistical methods for computers.\n",
    "\n",
    "Tukey is also known for the FFT algorithm, the Tukey range test, the Tukey lambda distribution, the Tukey test of additivity, and the Teichmüller–Tukey lemma."
   ]
  },
  {
   "cell_type": "markdown",
   "metadata": {},
   "source": [
    "### General description box plots\n",
    "\n",
    "The box plots also known as a box and whisker plot is a graph that presents information from a five-number summary. It does not show a distribution in as much detail as an histogram does, but is especially useful for indicating whether a distribution is skewed and whether there are potential unusual observations (outliers) in the data set. Boxplots are also very useful when large numbers of observations are involved and when two or more data sets are being compared.\n",
    "\n",
    "The boxplot is made up of five components, carefully chosen to give a robust summary of the distribution of a dataset:\n",
    "\n",
    "• The median, marked by a vertical line inside the box.\n",
    "\n",
    "• Two hinges, the upper and lower fourths (quartiles), represented as the ends of the box.\n",
    "\n",
    "• The data values adjacent to the upper and lower fences, which lie 1.5 times the inter-fourth range from the median,\n",
    "\n",
    "• two whiskers that connect the hinges to the fences; represented as two lines outside the box that extend to the highest and lowest observations\n",
    "\n",
    "• (potential) out-liers, individual points further away from the median than the extremes.\n",
    "\n",
    "\n",
    "Boxplots are ideal for comparing distributions because the centre, spread and overall range are immediately apparent.\n",
    "\n",
    "A box plot is a way of summarizing a set of data measured on an interval scale. It is often used in explanatory data analysis (analyzing data sets to summarize their main characteristics, often with visual methods). This type of graph is used to show the shape of the distribution, its central value, and its variability.\n",
    "\n",
    "_Source https://www150.statcan.gc.ca/n1/edu/power-pouvoir/ch12/5214889-eng.htm_\n",
    "\n",
    "_http://vita.had.co.nz/papers/boxplots.pdf_\n"
   ]
  },
  {
   "cell_type": "markdown",
   "metadata": {},
   "source": [
    "### Types of box plots\n",
    "\n",
    "The first variation to display a density estimate was the vase plot (Benjamini, 1988), where the box is replaced with a symmetrical display of estimated density. Violin plots (Hintze and Nelson, 1998) are very similar, but display the density for all data points, not just the middle half. The bean plot (Kampstra, 2008) is a further enhancement that adds a rug that showing every value and a line that shows the mean.\n",
    "\n",
    "The following image shows: \n",
    "First plot from the left: Box plot\n",
    "\n",
    "Second plot from the left: Vase plot\n",
    "\n",
    "Third plot from the letf: Violin plot\n",
    "\n",
    "Fourth plot from the left: Bean plot\n",
    "\n",
    "Fifth plot below: Notched plot\n",
    "\n",
    "\n",
    "![title](boxplots-types.png)\n",
    "\n",
    "![title](boxplots-types2.png)\n",
    "\n",
    "On top of the abowe presented box plots there are further variations of the box plot wich gives them a great scale of different uses.\n",
    "\n",
    "_Sources: http://datavizcatalogue.com/blog/box-plot-variations/, http://vita.had.co.nz/papers/boxplots.pdf https://www150.statcan.gc.ca/n1/edu/power-pouvoir/ch12/5214889-eng.htm_"
   ]
  },
  {
   "cell_type": "markdown",
   "metadata": {},
   "source": [
    "### Uses of box plots\n",
    "Box plots use robust summary statistics that are always located at actual data points, are quickly computable (originally by hand), and have no tuning parameters. They are particularly useful for comparing distributions across groups.\n",
    "\n",
    "Statistics and data displays can help us understand and visualize important trends. In the cases below the boxplots will show the trend on the percentage of coverage of the Great Barrier Reef and the comparison of snow fall in two ski resorts. \n",
    "\n",
    "\n",
    "**Real world use examples:**\n",
    "\n",
    "**_Great Barrier Reef_**\n",
    "\n",
    "In the study published in 2012 about the Great Barrier Reef of the coast of Australia, the scientists tracked the coral coverage of the Great Barrier Reef over a period of 27 years. In order to present the results of their study in a visual way they used among others boxplots.\n",
    "\n",
    "![Great Barrier Reef boxplot](boxplots-coral.png)\n",
    "\n",
    "\n",
    "The above graphic shows many individual boxplots and depicts how the percentage of the reef's coral cover has changed over time. In the vertical axis are presented the years (1985-2012) and the horizontal axis represent the percentaje of coral coverage. It ilustrates that the coral cover on the reef has been declining. At the start of the measurements we can see in the plot that the median coverage was around 27%, but by 2012, the median coverage had dropped to only at about 10%. The data display is useful because it gives an easily understandable and comprehensive picture of coral reef's declining health over the past 27 years. \n",
    "\n",
    "\n",
    "**_Snowfall comparison of two ski resorts_**\n",
    "\n",
    "![Snowfall boxplot](boxplots-snowfall.png)\n",
    "\n",
    "This is a simulated case of the comparison of the annual snowfall of two ficticious skiing resorts. In the above box plot there is a summary of all the data dislpaying the range and distribution along the inches line (horizontal axis).\n",
    "In the horizontal axis the quantity of inches of snow fall during the snow seasson from a set of 50 years. The vertical axis in this case, just separates the two ski resorts. \n",
    "\n",
    "From this boxplot we can easily identify the median, minimum and maximum snowfall for both resorts: \n",
    "- Mad Mountain\n",
    "    - Minimum: 0 in\n",
    "    - Maximum: 400 in\n",
    "    - Median: 225 in\n",
    "    \n",
    "- Powder Valley\n",
    "    - Minimum: 75 in\n",
    "    - Maximum: 325 in\n",
    "    - Median: 175 in\n",
    "\n",
    "Is important to take into consideration that the longer the box the more spread is the distribution, so in this case if we compare distributions we can see that in Powder Valley the amount of snowfall doesn't vary as much from yerar to year.\n",
    "\n",
    "_Source: https://www.brainingcamp.com/ and https://www.ck12.org/statistics/applications-of-box-and-whisker-plots/rwa/Counting-Coral/_ "
   ]
  },
  {
   "cell_type": "markdown",
   "metadata": {},
   "source": [
    "**Use of boxplot**"
   ]
  },
  {
   "cell_type": "markdown",
   "metadata": {},
   "source": [
    "Reference: https://matplotlib.org/api/_as_gen/matplotlib.pyplot.boxplot.html and\n",
    "https://www.youtube.com/watch?v=RxvozehYAGs"
   ]
  },
  {
   "cell_type": "code",
   "execution_count": 1,
   "metadata": {},
   "outputs": [],
   "source": [
    "%matplotlib inline"
   ]
  },
  {
   "cell_type": "code",
   "execution_count": 2,
   "metadata": {},
   "outputs": [],
   "source": [
    "import pandas as pd\n",
    "import matplotlib.pyplot as plt"
   ]
  },
  {
   "cell_type": "code",
   "execution_count": 13,
   "metadata": {},
   "outputs": [],
   "source": [
    "#import the CSV file into Python \n",
    "#data set from https://ourworldindata.org/natural-catastrophes \n",
    "natural_disasters = pd.read_csv('/Users/lucia/Downloads/number-of-natural-disaster-events.csv')"
   ]
  },
  {
   "cell_type": "code",
   "execution_count": 17,
   "metadata": {},
   "outputs": [
    {
     "data": {
      "text/plain": [
       "Index(['Entity', 'Code', 'Year',\n",
       "       'Number of disasters (EMDAT (2017)) (reported disasters)'],\n",
       "      dtype='object')"
      ]
     },
     "execution_count": 17,
     "metadata": {},
     "output_type": "execute_result"
    }
   ],
   "source": [
    "#showing the columns in the data set\n",
    "natural_disasters.columns"
   ]
  },
  {
   "cell_type": "code",
   "execution_count": 16,
   "metadata": {},
   "outputs": [
    {
     "data": {
      "text/plain": [
       "{'whiskers': [<matplotlib.lines.Line2D at 0x117c1b2b0>,\n",
       "  <matplotlib.lines.Line2D at 0x117c1b748>],\n",
       " 'caps': [<matplotlib.lines.Line2D at 0x117c1bb70>,\n",
       "  <matplotlib.lines.Line2D at 0x117c1bf98>],\n",
       " 'boxes': [<matplotlib.lines.Line2D at 0x117c1b160>],\n",
       " 'medians': [<matplotlib.lines.Line2D at 0x117e7e400>],\n",
       " 'fliers': [<matplotlib.lines.Line2D at 0x117e7e828>],\n",
       " 'means': []}"
      ]
     },
     "execution_count": 16,
     "metadata": {},
     "output_type": "execute_result"
    },
    {
     "data": {
      "image/png": "[encoded data removed]",
      "text/plain": [
       "<matplotlib.figure.Figure at 0x117bae7b8>"
      ]
     },
     "metadata": {
      "needs_background": "light"
     },
     "output_type": "display_data"
    }
   ],
   "source": [
    "plt.boxplot(natural_disasters.Year)"
   ]
  },
  {
   "cell_type": "markdown",
   "metadata": {},
   "source": [
    "**Explanation of main terms**"
   ]
  },
  {
   "cell_type": "markdown",
   "metadata": {},
   "source": [
    "boxes: the main body of the boxplot showing the quartiles and the median's confidence intervals if enabled.\n",
    "\n",
    "medians: horizontal lines at the median of each box.\n",
    "\n",
    "whiskers: the vertical lines extending to the most extreme, non-outlier data points.\n",
    "\n",
    "caps: the horizontal lines at the ends of the whiskers.\n",
    "\n",
    "fliers: points representing data that extend beyond the whiskers (fliers).\n",
    "\n",
    "means: points or lines representing the means."
   ]
  },
  {
   "cell_type": "code",
   "execution_count": null,
   "metadata": {},
   "outputs": [],
   "source": []
  }
 ],
 "metadata": {
  "kernelspec": {
   "display_name": "Python 3",
   "language": "python",
   "name": "python3"
  },
  "language_info": {
   "codemirror_mode": {
    "name": "ipython",
    "version": 3
   },
   "file_extension": ".py",
   "mimetype": "text/x-python",
   "name": "python",
   "nbconvert_exporter": "python",
   "pygments_lexer": "ipython3",
   "version": "3.6.6"
  }
 },
 "nbformat": 4,
 "nbformat_minor": 2
}
