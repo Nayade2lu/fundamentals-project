{
 "cells": [
  {
   "cell_type": "markdown",
   "metadata": {},
   "source": [
    "# Box plots"
   ]
  },
  {
   "cell_type": "markdown",
   "metadata": {},
   "source": [
    "### History\n",
    "\n",
    "The box plot was created by John Turkey, an American matematician, in 1970 and presented publicly in 1977 in his papper \"Exploratory Data Analysis\". \n",
    "\n",
    "The basic graphic form of the boxplot, the range-bar, was established in the early 1950’s Spear. Tukey’s contribution was to think deeply about appropriate summary statistics that worked for a wide range of data and to connect those to the visual components of the range bar. Today, what we call a boxplot is more closely related to what Tukey called a schematic plot, a box and whiskers plot with some special restrictions on the summary statistics used.\n",
    "\n",
    "In the original days of box plots they were drwn by hand, but nowadays as every statistician has a computer on their desk, the box plots have evolved in more complex representations. These variations attempt to display more information about the distribution, maintaing the compact size of the boxplot, but bringing in the richer distributional summary of the histogram or density plot. \n",
    "\n",
    "Today, over 40 years later, the boxplot has become one of the most frequently used statistical graphics,and is one of the few plot types invented in the 20th century that has found widespread adoption. Due to their elegance and practicality, boxplots have spawned a wealth of variations and enhancement.\n",
    "\n",
    "_Sources: http://vita.had.co.nz/papers/boxplots.pdf, https://en.wikipedia.org/wiki/Box_plot https://towardsdatascience.com/understanding-boxplots-5e2df7bcbd51\n"
   ]
  },
  {
   "cell_type": "markdown",
   "metadata": {},
   "source": [
    "### General description box plots\n",
    "\n",
    "The boxplot is made up of five components, carefully chosen to give a robust summary of the distribution of a dataset:\n",
    "\n",
    "• the median,\n",
    "\n",
    "• two hinges, the upper and lower fourths (quartiles),\n",
    "\n",
    "• the data values adjacent to the upper and lower fences, which lie 1.5 times the inter-fourth range from the median,\n",
    "\n",
    "• two whiskers that connect the hinges to the fences, and\n",
    "\n",
    "• (potential) out-liers, individual points further away from the median than the extremes."
   ]
  },
  {
   "cell_type": "markdown",
   "metadata": {},
   "source": [
    "### Types of plots\n",
    "\n",
    "The first variation to display a density estimate was the vase plot (Benjamini, 1988), where the box is replaced with a symmetrical display of estimated density. Violin plots (Hintze and Nelson, 1998) are very similar, but display the density for all data points, not just the middle half. The bean plot (Kampstra, 2008) is a further enhancement that adds a rug that showing every value and a line that shows the mean.\n",
    "\n",
    "The following image shows: \n",
    "First plot from the left: Box plot\n",
    "\n",
    "Second plot from the left: Vase plot\n",
    "\n",
    "Third plot from the letf: Violin plot\n",
    "\n",
    "Fourth plot from the left: Bean plot\n",
    "\n",
    "![title](boxplots-types.png)\n",
    "\n",
    "add Notched,  variable width letter-value box plot...\n",
    "\n",
    "_Sources: http://datavizcatalogue.com/blog/box-plot-variations/, http://vita.had.co.nz/papers/boxplots.pdf"
   ]
  },
  {
   "cell_type": "code",
   "execution_count": null,
   "metadata": {},
   "outputs": [],
   "source": []
  }
 ],
 "metadata": {
  "kernelspec": {
   "display_name": "Python 3",
   "language": "python",
   "name": "python3"
  },
  "language_info": {
   "codemirror_mode": {
    "name": "ipython",
    "version": 3
   },
   "file_extension": ".py",
   "mimetype": "text/x-python",
   "name": "python",
   "nbconvert_exporter": "python",
   "pygments_lexer": "ipython3",
   "version": "3.6.6"
  }
 },
 "nbformat": 4,
 "nbformat_minor": 2
}
