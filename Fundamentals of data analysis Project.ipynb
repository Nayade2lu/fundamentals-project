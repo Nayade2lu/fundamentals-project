{
 "cells": [
  {
   "cell_type": "markdown",
   "metadata": {},
   "source": [
    "# Box plots"
   ]
  },
  {
   "cell_type": "markdown",
   "metadata": {},
   "source": [
    "### History\n",
    "\n",
    "The box plot was created by John Turkey in 1970 and presented publicly in 1977 in his papper \"Exploratory Data Analysis\". \n",
    "\n",
    "The basic graphic form of the boxplot, the range-bar, was established in the early 1950’s Spear. Tukey’s contribution was to think deeply about appropriate summary statistics that worked for a wide range of data and to connect those to the visual components of the range bar. Today, what we call a boxplot is more closely related to what Tukey called a schematic plot, a box and whiskers plot with some special restrictions on the summary statistics used.\n",
    "\n",
    "In the original days of box plots they were drwn by hand, but nowadays as every statistician has a computer on their desk, the box plots have evolved in more complex representations. These variations attempt to display more information about the distribution, maintaing the compact size of the boxplot, but bringing in the richer distributional summary of the histogram or density plot. \n",
    "\n",
    "Today, over 40 years later, the boxplot has become one of the most frequently used statistical graphics,and is one of the few plot types invented in the 20th century that has found widespread adoption. Due to their elegance and practicality, boxplots have spawned a wealth of variations and enhancement.\n",
    "\n",
    "_Sources: http://vita.had.co.nz/papers/boxplots.pdf, https://en.wikipedia.org/wiki/Box_plot https://towardsdatascience.com/understanding-boxplots-5e2df7bcbd51\n"
   ]
  },
  {
   "cell_type": "markdown",
   "metadata": {},
   "source": [
    "### Creator\n",
    "The creator of the box plots was an American mathematician called John Wilder Tukey.\n",
    "\n",
    "Tukey received a Ph.D in mathematics in Princeton University and was one of the excellent members of  AT&T Bell Laboratories where he invented the term bit, while working on statistical methods for computers.\n",
    "\n",
    "Tukey is also known for the FFT algorithm, the Tukey range test, the Tukey lambda distribution, the Tukey test of additivity, and the Teichmüller–Tukey lemma."
   ]
  },
  {
   "cell_type": "markdown",
   "metadata": {},
   "source": [
    "### General description box plots\n",
    "\n",
    "The box plots also known as a box and whisker plot is a graph that presents information from a five-number summary. It does not show a distribution in as much detail as an histogram does, but is especially useful for indicating whether a distribution is skewed and whether there are potential unusual observations (outliers) in the data set. Boxplots are also very useful when large numbers of observations are involved and when two or more data sets are being compared.\n",
    "\n",
    "The boxplot is made up of five components, carefully chosen to give a robust summary of the distribution of a dataset:\n",
    "\n",
    "• The median, marked by a vertical line inside the box.\n",
    "\n",
    "• Two hinges, the upper and lower fourths (quartiles), represented as the ends of the box.\n",
    "\n",
    "• The data values adjacent to the upper and lower fences, which lie 1.5 times the inter-fourth range from the median,\n",
    "\n",
    "• two whiskers that connect the hinges to the fences; represented as two lines outside the box that extend to the highest and lowest observations\n",
    "\n",
    "• (potential) out-liers, individual points further away from the median than the extremes.\n",
    "\n",
    "\n",
    "Boxplots are ideal for comparing distributions because the centre, spread and overall range are immediately apparent.\n",
    "\n",
    "A box plot is a way of summarizing a set of data measured on an interval scale. It is often used in explanatory data analysis (analyzing data sets to summarize their main characteristics, often with visual methods). This type of graph is used to show the shape of the distribution, its central value, and its variability.\n",
    "\n",
    "_Source https://www150.statcan.gc.ca/n1/edu/power-pouvoir/ch12/5214889-eng.htm_\n",
    "\n",
    "_http://vita.had.co.nz/papers/boxplots.pdf_\n"
   ]
  },
  {
   "cell_type": "markdown",
   "metadata": {},
   "source": [
    "### Types of box plots\n",
    "\n",
    "The first variation to display a density estimate was the vase plot (Benjamini, 1988), where the box is replaced with a symmetrical display of estimated density. Violin plots (Hintze and Nelson, 1998) are very similar, but display the density for all data points, not just the middle half. The bean plot (Kampstra, 2008) is a further enhancement that adds a rug that showing every value and a line that shows the mean.\n",
    "\n",
    "The following image shows: \n",
    "First plot from the left: Box plot\n",
    "\n",
    "Second plot from the left: Vase plot\n",
    "\n",
    "Third plot from the letf: Violin plot\n",
    "\n",
    "Fourth plot from the left: Bean plot\n",
    "\n",
    "Fifth plot below: Notched plot\n",
    "\n",
    "\n",
    "![title](boxplots-types.png)\n",
    "\n",
    "![title](boxplots-types2.png)\n",
    "\n",
    "On top of the abowe presented box plots there are further variations of the box plot wich gives them a great scale of different uses.\n",
    "\n",
    "_Sources: http://datavizcatalogue.com/blog/box-plot-variations/, http://vita.had.co.nz/papers/boxplots.pdf https://www150.statcan.gc.ca/n1/edu/power-pouvoir/ch12/5214889-eng.htm_"
   ]
  },
  {
   "cell_type": "markdown",
   "metadata": {},
   "source": [
    "### Uses of box plots\n",
    "Box plots use robust summary statistics that are always located at actual data points, are quickly computable (originally by hand), and have no tuning parameters. They are particularly useful for comparing distributions across groups.\n",
    "\n",
    "Statistics and data displays can help us understand and visualize important trends. In the cases below the boxplots will show the trend on the percentage of coverage of the Great Barrier Reef and the comparison of snow fall in two ski resorts. \n",
    "\n",
    "\n",
    "**Real world use examples:**\n",
    "\n",
    "**_Great Barrier Reef_**\n",
    "\n",
    "In the study published in 2012 about the Great Barrier Reef of the coast of Australia, the scientists tracked the coral coverage of the Great Barrier Reef over a period of 27 years. In order to present the results of their study in a visual way they used among others boxplots.\n",
    "\n",
    "![Great Barrier Reef boxplot](boxplots-coral.png)\n",
    "\n",
    "\n",
    "The above graphic shows many individual boxplots and depicts how the percentage of the reef's coral cover has changed over time. In the vertical axis are presented the years (1985-2012) and the horizontal axis represent the percentaje of coral coverage. It ilustrates that the coral cover on the reef has been declining. At the start of the measurements we can see in the plot that the median coverage was around 27%, but by 2012, the median coverage had dropped to only at about 10%. The data display is useful because it gives an easily understandable and comprehensive picture of coral reef's declining health over the past 27 years. \n",
    "\n",
    "\n",
    "**_Snowfall comparison of two ski resorts_**\n",
    "\n",
    "![Snowfall boxplot](boxplots-snowfall.png)\n",
    "\n",
    "This is a simulated case of the comparison of the annual snowfall of two ficticious skiing resorts. In the above box plot there is a summary of all the data dislpaying the range and distribution along the inches line (horizontal axis).\n",
    "In the horizontal axis the quantity of inches of snow fall during the snow seasson from a set of 50 years. The vertical axis in this case, just separates the two ski resorts. \n",
    "\n",
    "From this boxplot we can easily identify the median, minimum and maximum snowfall for both resorts: \n",
    "- Mad Mountain\n",
    "    - Minimum: 0 in\n",
    "    - Maximum: 400 in\n",
    "    - Median: 225 in\n",
    "    \n",
    "- Powder Valley\n",
    "    - Minimum: 75 in\n",
    "    - Maximum: 325 in\n",
    "    - Median: 175 in\n",
    "\n",
    "Is important to take into consideration that the longer the box the more spread is the distribution, so in this case if we compare distributions we can see that in Powder Valley the amount of snowfall doesn't vary as much from yerar to year.\n",
    "\n",
    "_Source: https://www.brainingcamp.com/ , https://www.youtube.com/watch?v=CoVf1jLxgj4, and https://www.ck12.org/statistics/applications-of-box-and-whisker-plots/rwa/Counting-Coral/_ "
   ]
  },
  {
   "cell_type": "markdown",
   "metadata": {},
   "source": [
    "**Use of boxplot**"
   ]
  },
  {
   "cell_type": "markdown",
   "metadata": {},
   "source": [
    "Reference:\n",
    "https://matplotlib.org/api/_as_gen/matplotlib.pyplot.boxplot.html and\n",
    "https://www.youtube.com/watch?v=RxvozehYAGs"
   ]
  },
  {
   "cell_type": "code",
   "execution_count": 1,
   "metadata": {},
   "outputs": [],
   "source": [
    "%matplotlib inline"
   ]
  },
  {
   "cell_type": "code",
   "execution_count": 2,
   "metadata": {},
   "outputs": [],
   "source": [
    "import pandas as pd\n",
    "import matplotlib.pyplot as plt\n",
    "import seaborn as sns"
   ]
  },
  {
   "cell_type": "code",
   "execution_count": 3,
   "metadata": {},
   "outputs": [],
   "source": [
    "#import the CSV file into Python \n",
    "#data set from https://ourworldindata.org/natural-catastrophes \n",
    "natural_disasters = pd.read_excel('/Users/lucia/Downloads/number.xlsx')"
   ]
  },
  {
   "cell_type": "code",
   "execution_count": 4,
   "metadata": {},
   "outputs": [
    {
     "data": {
      "text/plain": [
       "Index(['Entity', 'Code', 'Year', 'Numberofdisasters'], dtype='object')"
      ]
     },
     "execution_count": 4,
     "metadata": {},
     "output_type": "execute_result"
    }
   ],
   "source": [
    "#showing the columns in the data set\n",
    "natural_disasters.columns"
   ]
  },
  {
   "cell_type": "code",
   "execution_count": 5,
   "metadata": {},
   "outputs": [
    {
     "data": {
      "text/plain": [
       "{'whiskers': [<matplotlib.lines.Line2D at 0x1a1f91a438>,\n",
       "  <matplotlib.lines.Line2D at 0x1a1f91a8d0>],\n",
       " 'caps': [<matplotlib.lines.Line2D at 0x1a1f91acf8>,\n",
       "  <matplotlib.lines.Line2D at 0x1a1f931160>],\n",
       " 'boxes': [<matplotlib.lines.Line2D at 0x1a1f400d30>],\n",
       " 'medians': [<matplotlib.lines.Line2D at 0x1a1f931588>],\n",
       " 'fliers': [<matplotlib.lines.Line2D at 0x1a1f9319b0>],\n",
       " 'means': []}"
      ]
     },
     "execution_count": 5,
     "metadata": {},
     "output_type": "execute_result"
    },
    {
     "data": {
      "image/png": "[encoded data removed]",
      "text/plain": [
       "<matplotlib.figure.Figure at 0x1a1f855c18>"
      ]
     },
     "metadata": {
      "needs_background": "light"
     },
     "output_type": "display_data"
    }
   ],
   "source": [
    "#Showing the box plot attendind to the year column\n",
    "plt.boxplot(natural_disasters.Year, vert=False)"
   ]
  },
  {
   "cell_type": "markdown",
   "metadata": {},
   "source": [
    "The boxplot above represents the distribution of years in the dataset. In this case the representation above just give a view of the number of years we have in the data set. We can see that the distribution is uniform. The years are uniformly distributed in the data set from 1900 up to 2017."
   ]
  },
  {
   "cell_type": "code",
   "execution_count": 12,
   "metadata": {},
   "outputs": [
    {
     "data": {
      "text/plain": [
       "Text(0.5,0,'Number of disasters')"
      ]
     },
     "execution_count": 12,
     "metadata": {},
     "output_type": "execute_result"
    },
    {
     "data": {
      "image/png": "[encoded data removed]",
      "text/plain": [
       "<matplotlib.figure.Figure at 0x1a20c5c438>"
      ]
     },
     "metadata": {
      "needs_background": "light"
     },
     "output_type": "display_data"
    }
   ],
   "source": [
    "#Showing the plot attending to the column number of disasters\n",
    "#With vert=False we make the plot horizontal\n",
    "plt.boxplot(natural_disasters.Numberofdisasters, vert=False)\n",
    "#plt.title sets the title of the plot\n",
    "plt.title ('Disasters data')\n",
    "#plt.xlabel sets the label of the x axis\n",
    "plt.xlabel('Number of disasters')"
   ]
  },
  {
   "cell_type": "markdown",
   "metadata": {},
   "source": [
    "In the boxplot above we can appreciate a different distribution from the previous column. Most of the values of Natural Disasters are centered around 40. \n",
    "\n",
    "From 40 disasters a year to 210 the distribution is more spread around. \n",
    "\n",
    "From 210 and 500 disasters the distribution of values is very spread out."
   ]
  },
  {
   "cell_type": "code",
   "execution_count": 13,
   "metadata": {},
   "outputs": [
    {
     "name": "stderr",
     "output_type": "stream",
     "text": [
      "/Users/lucia/anaconda3/lib/python3.6/site-packages/seaborn/categorical.py:462: FutureWarning: remove_na is deprecated and is a private function. Do not use.\n",
      "  box_data = remove_na(group_data)\n"
     ]
    },
    {
     "data": {
      "text/plain": [
       "<matplotlib.axes._subplots.AxesSubplot at 0x1a20cf8e80>"
      ]
     },
     "execution_count": 13,
     "metadata": {},
     "output_type": "execute_result"
    },
    {
     "data": {
      "image/png": "[encoded data removed]",
      "text/plain": [
       "<matplotlib.figure.Figure at 0x1a20dbdbe0>"
      ]
     },
     "metadata": {
      "needs_background": "light"
     },
     "output_type": "display_data"
    }
   ],
   "source": [
    "#Small test with seaborn\n",
    "sns.boxplot(x='Numberofdisasters', data=natural_disasters)"
   ]
  },
  {
   "cell_type": "markdown",
   "metadata": {},
   "source": [
    "**Explanation of main terms**"
   ]
  },
  {
   "cell_type": "markdown",
   "metadata": {},
   "source": [
    "_Terminology_\n",
    "\n",
    "Boxplots are a standardized way of displaying the range and distribution of data based on a five number summary (“minimum”, first quartile (Q1), median, third quartile (Q3), and “maximum”). The distribution of data is displayed along a number line.\n",
    "\n",
    "To make a boxplot manually we first should start ordering the data to arrange the values from least to greatest. The we need to find the **median** or middle value that splits the set of data into two equal groups.\n",
    "Then we find the median (**lower quartile**) of the lower half of the data set and the same with the upper half (**upper quartile**) of the data set. Finally we need to find the **lower extreme** and **upper extremes** of the data. \n",
    "\n",
    "The **quartiles** are the four sepparate groups of data that we obtain dividing the data with the procedure above.\n",
    "The distance between the points in the box plot tells us about the distribution in the quartiles. A shoreter distance means the quartile data is bunched together. A longer distance in the quartile means the data is spread out.\n",
    "\n",
    "- Median (Q2/50th Percentile): the middle value of the dataset.\n",
    "\n",
    "- First quartile (Q1/25th Percentile): the middle number between the smallest number (not the “minimum”) and the median of the dataset.\n",
    "\n",
    "- Third quartile (Q3/75th Percentile): the middle value between the median and the highest value (not the “maximum”) of the dataset.\n",
    "\n",
    "- Interquartile range (IQR): 25th to the 75th percentile.\n",
    "\n",
    "- Whiskers. Line connecting the lower extreme and the first quartile and line connecting the third quartile with the upper extreme  \n",
    "\n",
    "- Outliers. An outlier is an observation that is numerically distant from the rest of the data. When reviewing a boxplot, an outlier is defined as a data point that is located outside the fences (“whiskers”) of the boxplot\n",
    "\n",
    "- “maximum”: Q3 (Third Quartile) + 1.5*IQR (Interquartile Range)\n",
    "\n",
    "- “minimum”: Q1 (First Quartile) -1.5*IQR (Interquartile Range)\n",
    "\n",
    "\n",
    "_Main concepts when representing a box plot:_\n",
    "\n",
    "The boxes are the main body of the boxplot. They show the quartiles and the median's confidence intervals if enabled.\n",
    "\n",
    "The medians are represented with horizontal lines at the median of each box.\n",
    "\n",
    "The whiskers are the vertical lines extending to the most extreme, non-outlier data points.\n",
    "\n",
    "The caps are the horizontal lines at the ends of the whiskers.\n",
    "\n",
    "The fliers are the points representing data that extend beyond the whiskers (fliers).\n",
    "\n",
    "The means are the points or lines representing the means.\n",
    "\n",
    "_Source_: https://www.r-statistics.com/tag/boxplot-outlier/, https://www.jmp.com/support/help/14/outlier-box-plot.shtml"
   ]
  },
  {
   "cell_type": "markdown",
   "metadata": {},
   "source": [
    "### Comparison between boxplots and other graphical representations of data\n",
    "\n",
    "**Histograms**:\n",
    "They are usually the first representation to illustrate the distribution of data.\n",
    "\n",
    "Histograms provide with an insight about the nature of the data, the minimum and maximum values, the shape of the distribution and whether it is normal, exponential, chi-squared, etc. It also tells if the distribution is symmetric or non-symmetric, and whether it is unimodal, bimodal, or multimodal. If the data is symmetrically distributed and centered around the mean, we can say that the data is normally distributed.\n",
    "\n",
    "\n",
    "**Boxplots**:\n",
    "A Boxplot is a graphical way that summarizes the important aspects of the distribution of continuous data. It is particularly useful when comparing between several groups of data sets or samples. Like histograms, they should be used for moderate to large amount of data as the size of the boxplot can vary significantly if the data size is too small. However, they are less detailed and take up less space which allows easy comparison of multiple data sets.\n",
    "\n",
    "Boxplots are primarily used when comparing several distributions against each other. They summarize key statistics from the data and display them in a box-and-whiskers format. They provide a quick way for examining the variation present in the data. A wider range boxplot indicates more variability.\n",
    "\n",
    "Boxplots can tell us whether the distribution is symmetrical or skewed and if there are outliers in the data. The spacings between the different parts of a boxplot indicate the spread and skewness present in the data. \n",
    "\n",
    "Boxplots are very useful for a sumarised view of the distribution of the data set.\n",
    "\n",
    "\n",
    "\n"
   ]
  },
  {
   "cell_type": "markdown",
   "metadata": {},
   "source": [
    "#### Iris data set boxplot boxplot and histogram comparison"
   ]
  },
  {
   "cell_type": "code",
   "execution_count": 18,
   "metadata": {},
   "outputs": [],
   "source": [
    "# Load the iris data set from a URL.\n",
    "df = pd.read_csv(\"https://raw.githubusercontent.com/uiuc-cse/data-fa14/gh-pages/data/iris.csv\")"
   ]
  },
  {
   "cell_type": "code",
   "execution_count": 29,
   "metadata": {},
   "outputs": [
    {
     "data": {
      "text/plain": [
       "Index(['sepal_length', 'sepal_width', 'petal_length', 'petal_width',\n",
       "       'species'],\n",
       "      dtype='object')"
      ]
     },
     "execution_count": 29,
     "metadata": {},
     "output_type": "execute_result"
    }
   ],
   "source": [
    "#Show the columns in the data set\n",
    "df.columns"
   ]
  },
  {
   "cell_type": "code",
   "execution_count": 22,
   "metadata": {},
   "outputs": [
    {
     "data": {
      "text/plain": [
       "{'whiskers': [<matplotlib.lines.Line2D at 0x1a210243c8>,\n",
       "  <matplotlib.lines.Line2D at 0x1a21024860>],\n",
       " 'caps': [<matplotlib.lines.Line2D at 0x1a21024c88>,\n",
       "  <matplotlib.lines.Line2D at 0x1a210280f0>],\n",
       " 'boxes': [<matplotlib.lines.Line2D at 0x1a21024278>],\n",
       " 'medians': [<matplotlib.lines.Line2D at 0x1a21028518>],\n",
       " 'fliers': [<matplotlib.lines.Line2D at 0x1a21028940>],\n",
       " 'means': []}"
      ]
     },
     "execution_count": 22,
     "metadata": {},
     "output_type": "execute_result"
    },
    {
     "data": {
      "image/png": "[encoded data removed]",
      "text/plain": [
       "<matplotlib.figure.Figure at 0x1a2115b208>"
      ]
     },
     "metadata": {
      "needs_background": "light"
     },
     "output_type": "display_data"
    }
   ],
   "source": [
    "#boxplot of the sepal length (all species)\n",
    "plt.boxplot(df.sepal_length, vert=False)"
   ]
  },
  {
   "cell_type": "code",
   "execution_count": 31,
   "metadata": {},
   "outputs": [
    {
     "data": {
      "text/plain": [
       "(array([ 9., 23., 14., 27., 16., 26., 18.,  6.,  5.,  6.]),\n",
       " array([4.3 , 4.66, 5.02, 5.38, 5.74, 6.1 , 6.46, 6.82, 7.18, 7.54, 7.9 ]),\n",
       " <a list of 10 Patch objects>)"
      ]
     },
     "execution_count": 31,
     "metadata": {},
     "output_type": "execute_result"
    },
    {
     "data": {
      "image/png": "[encoded data removed]",
      "text/plain": [
       "<matplotlib.figure.Figure at 0x1a2143ecf8>"
      ]
     },
     "metadata": {
      "needs_background": "light"
     },
     "output_type": "display_data"
    }
   ],
   "source": [
    "#histogram of the sepal length (all species)\n",
    "plt.hist(df.sepal_length)"
   ]
  },
  {
   "cell_type": "code",
   "execution_count": 26,
   "metadata": {},
   "outputs": [
    {
     "data": {
      "text/plain": [
       "{'whiskers': [<matplotlib.lines.Line2D at 0x1a211b2ac8>,\n",
       "  <matplotlib.lines.Line2D at 0x1a211b2f60>],\n",
       " 'caps': [<matplotlib.lines.Line2D at 0x1a211ab3c8>,\n",
       "  <matplotlib.lines.Line2D at 0x1a211ab7f0>],\n",
       " 'boxes': [<matplotlib.lines.Line2D at 0x1a211b2978>],\n",
       " 'medians': [<matplotlib.lines.Line2D at 0x1a211abc18>],\n",
       " 'fliers': [<matplotlib.lines.Line2D at 0x1a211c7080>],\n",
       " 'means': []}"
      ]
     },
     "execution_count": 26,
     "metadata": {},
     "output_type": "execute_result"
    },
    {
     "data": {
      "image/png": "[encoded data removed]",
      "text/plain": [
       "<matplotlib.figure.Figure at 0x1a20f762b0>"
      ]
     },
     "metadata": {
      "needs_background": "light"
     },
     "output_type": "display_data"
    }
   ],
   "source": [
    "#boxplot of the sepal width (all species)\n",
    "plt.boxplot(df.sepal_width, vert=False)"
   ]
  },
  {
   "cell_type": "code",
   "execution_count": 32,
   "metadata": {},
   "outputs": [
    {
     "data": {
      "text/plain": [
       "(array([ 4.,  7., 22., 24., 38., 31.,  9., 11.,  2.,  2.]),\n",
       " array([2.  , 2.24, 2.48, 2.72, 2.96, 3.2 , 3.44, 3.68, 3.92, 4.16, 4.4 ]),\n",
       " <a list of 10 Patch objects>)"
      ]
     },
     "execution_count": 32,
     "metadata": {},
     "output_type": "execute_result"
    },
    {
     "data": {
      "image/png": "[encoded data removed]",
      "text/plain": [
       "<matplotlib.figure.Figure at 0x10c83b048>"
      ]
     },
     "metadata": {
      "needs_background": "light"
     },
     "output_type": "display_data"
    }
   ],
   "source": [
    "#histogram of the sepal width (all species)\n",
    "plt.hist(df.sepal_width)"
   ]
  },
  {
   "cell_type": "code",
   "execution_count": 27,
   "metadata": {},
   "outputs": [
    {
     "data": {
      "text/plain": [
       "{'whiskers': [<matplotlib.lines.Line2D at 0x1a2129fda0>,\n",
       "  <matplotlib.lines.Line2D at 0x1a2129c278>],\n",
       " 'caps': [<matplotlib.lines.Line2D at 0x1a2129c6a0>,\n",
       "  <matplotlib.lines.Line2D at 0x1a2129cac8>],\n",
       " 'boxes': [<matplotlib.lines.Line2D at 0x1a2129fc50>],\n",
       " 'medians': [<matplotlib.lines.Line2D at 0x1a2129cef0>],\n",
       " 'fliers': [<matplotlib.lines.Line2D at 0x1a21286978>],\n",
       " 'means': []}"
      ]
     },
     "execution_count": 27,
     "metadata": {},
     "output_type": "execute_result"
    },
    {
     "data": {
      "image/png": "[encoded data removed]",
      "text/plain": [
       "<matplotlib.figure.Figure at 0x1a21229518>"
      ]
     },
     "metadata": {
      "needs_background": "light"
     },
     "output_type": "display_data"
    }
   ],
   "source": [
    "#boxplot of the petal length (all species)\n",
    "plt.boxplot(df.petal_length, vert=False)"
   ]
  },
  {
   "cell_type": "code",
   "execution_count": 33,
   "metadata": {},
   "outputs": [
    {
     "data": {
      "text/plain": [
       "(array([37., 13.,  0.,  3.,  8., 26., 29., 18., 11.,  5.]),\n",
       " array([1.  , 1.59, 2.18, 2.77, 3.36, 3.95, 4.54, 5.13, 5.72, 6.31, 6.9 ]),\n",
       " <a list of 10 Patch objects>)"
      ]
     },
     "execution_count": 33,
     "metadata": {},
     "output_type": "execute_result"
    },
    {
     "data": {
      "image/png": "[encoded data removed]",
      "text/plain": [
       "<matplotlib.figure.Figure at 0x1a21425550>"
      ]
     },
     "metadata": {
      "needs_background": "light"
     },
     "output_type": "display_data"
    }
   ],
   "source": [
    "#boxplot of the petal length (all species)\n",
    "plt.hist(df.petal_length)"
   ]
  },
  {
   "cell_type": "code",
   "execution_count": 28,
   "metadata": {},
   "outputs": [
    {
     "data": {
      "text/plain": [
       "{'whiskers': [<matplotlib.lines.Line2D at 0x1a20fe8400>,\n",
       "  <matplotlib.lines.Line2D at 0x1a20fe8898>],\n",
       " 'caps': [<matplotlib.lines.Line2D at 0x1a20fe8cc0>,\n",
       "  <matplotlib.lines.Line2D at 0x1a2100d128>],\n",
       " 'boxes': [<matplotlib.lines.Line2D at 0x1a20fe82b0>],\n",
       " 'medians': [<matplotlib.lines.Line2D at 0x1a2100d550>],\n",
       " 'fliers': [<matplotlib.lines.Line2D at 0x1a2100d978>],\n",
       " 'means': []}"
      ]
     },
     "execution_count": 28,
     "metadata": {},
     "output_type": "execute_result"
    },
    {
     "data": {
      "image/png": "[encoded data removed]",
      "text/plain": [
       "<matplotlib.figure.Figure at 0x1a2109aa90>"
      ]
     },
     "metadata": {
      "needs_background": "light"
     },
     "output_type": "display_data"
    }
   ],
   "source": [
    "#boxplot of the petal width (all species)\n",
    "plt.boxplot(df.petal_width, vert=False)"
   ]
  },
  {
   "cell_type": "code",
   "execution_count": 34,
   "metadata": {},
   "outputs": [
    {
     "data": {
      "text/plain": [
       "(array([41.,  8.,  1.,  7.,  8., 33.,  6., 23.,  9., 14.]),\n",
       " array([0.1 , 0.34, 0.58, 0.82, 1.06, 1.3 , 1.54, 1.78, 2.02, 2.26, 2.5 ]),\n",
       " <a list of 10 Patch objects>)"
      ]
     },
     "execution_count": 34,
     "metadata": {},
     "output_type": "execute_result"
    },
    {
     "data": {
      "image/png": "[encoded data removed]",
      "text/plain": [
       "<matplotlib.figure.Figure at 0x11922bf98>"
      ]
     },
     "metadata": {
      "needs_background": "light"
     },
     "output_type": "display_data"
    }
   ],
   "source": [
    "#boxplot of the petal width (all species)\n",
    "plt.hist(df.petal_width)"
   ]
  }
 ],
 "metadata": {
  "kernelspec": {
   "display_name": "Python 3",
   "language": "python",
   "name": "python3"
  },
  "language_info": {
   "codemirror_mode": {
    "name": "ipython",
    "version": 3
   },
   "file_extension": ".py",
   "mimetype": "text/x-python",
   "name": "python",
   "nbconvert_exporter": "python",
   "pygments_lexer": "ipython3",
   "version": "3.6.6"
  }
 },
 "nbformat": 4,
 "nbformat_minor": 2
}
